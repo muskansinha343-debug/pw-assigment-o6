{
  "nbformat": 4,
  "nbformat_minor": 0,
  "metadata": {
    "colab": {
      "provenance": []
    },
    "kernelspec": {
      "name": "python3",
      "display_name": "Python 3"
    },
    "language_info": {
      "name": "python"
    }
  },
  "cells": [
    {
      "cell_type": "markdown",
      "source": [
        "# Files, exceptional handling, logging and memory managment Questions"
      ],
      "metadata": {
        "id": "QQyOARmANfb7"
      }
    },
    {
      "cell_type": "markdown",
      "source": [
        "**Ques1. What is the difference between interpreted and compiled languages**\n",
        "\n",
        "Ans1. compiled language > Source code is translated entirely into machine code by a compiler before it is run. The resulting machine code is then run directly by the system.Examples: C, C++.\n",
        "\n",
        "interpreted language > Source code is read and executed line-by-line by an interpreter at runtime.No separate machine code file is created; the interpreter runs the code directly.Examples: Python, JavaScript."
      ],
      "metadata": {
        "id": "uZLaevT1euZ7"
      }
    },
    {
      "cell_type": "markdown",
      "source": [
        "**Ques2. What is exception handling in Python**\n",
        "\n",
        "Ans2. Exception handling in Python is a way to gracefully handle errors that occur during the execution of a program, so your program doesn't crash unexpectedly.\n"
      ],
      "metadata": {
        "id": "MCBOCd16eeVV"
      }
    },
    {
      "cell_type": "markdown",
      "source": [
        "**Ques3. What is the purpose of the finally block in exception handling?**\n",
        "\n",
        "Ans3. The finally block is used to ensure that certain code always runs, no matter what happens — whether an exception was raised or not.\n",
        "~~~\n",
        "try:\n",
        "    x = int(input(\"Enter a number: \"))\n",
        "    y = 10 / x\n",
        "except ValueError:\n",
        "    print(\"Invalid input: not a number.\")\n",
        "finally:\n",
        "print(\"done\")\n",
        "# ~~~"
      ],
      "metadata": {
        "id": "51TDgvWSb9NB"
      }
    },
    {
      "cell_type": "markdown",
      "source": [
        "\n",
        "**Ques4. What is logging in Python?**\n",
        "\n",
        "Ans4. Logging in Python is a way to track events that happen while your program runs. It helps you debug, monitor, and understand your program’s behavior without using print statements.Logging is a better alternative to print() for tracking program events\n",
        "~~~\n",
        "import logging\n",
        "logging.basicConfig(filename=\"xyx.txt\",level=logging.INFO)"
      ],
      "metadata": {
        "id": "gkRGi3S0bqwC"
      }
    },
    {
      "cell_type": "markdown",
      "source": [
        "**Ques5. What is the significance of the __del__ method in Python?**\n",
        "\n",
        "Ans5. The __del__  method is a special method in Python called a destructor. It is automatically invoked when an object is about to be destroyed — i.e., when it is garbage collected"
      ],
      "metadata": {
        "id": "Hu0RLbdjboBi"
      }
    },
    {
      "cell_type": "markdown",
      "source": [
        "\n",
        "**Ques6. What is the difference between import and from ... import in Python?**\n",
        "\n",
        "Ans6. Both import and from ... import are used to bring external modules or functions into your Python script, but they work differently.\n",
        "\n",
        "Use import when you want the whole module and clear, prefixed access.\n",
        "Use from ... import when you only need specific parts and want cleaner code.\n",
        "~~~\n",
        " from abc import abstractclassmethod\n",
        "~~~"
      ],
      "metadata": {
        "id": "a8zFtorAe3bm"
      }
    },
    {
      "cell_type": "markdown",
      "source": [
        "**Q7. How can you handle multiple exceptions in Python?**\n",
        "\n",
        "Ans7. In Python, you can handle multiple exceptions using multiple except blocks, or by grouping exceptions in a single block.\n",
        "\n",
        "~~~\n",
        "try:\n",
        "    x = int(input(\"Enter a number: \"))\n",
        "    y = 10 / x\n",
        "except ValueError:\n",
        "    print(\"Invalid input: not a number.\")\n",
        "except ZeroDivisionError:\n",
        "    print(\"You can't divide by zero.\")\n",
        "~~~"
      ],
      "metadata": {
        "id": "__B9Odd5fCkX"
      }
    },
    {
      "cell_type": "markdown",
      "source": [
        "\n",
        "**Ques8. What is the purpose of the with statement when handling files in Python?**\n",
        "\n",
        "Ans8. The with statement in Python is used to simplify file handling by automatically opening and closing files — even if an error occurs.\n",
        "~~~\n",
        "with open(\"file.txt\",\"w\")as f:\n",
        "   f.write()"
      ],
      "metadata": {
        "id": "1E5aVcqBfR_p"
      }
    },
    {
      "cell_type": "markdown",
      "source": [
        "**Q.9 What is the difference between multithreading and multiprocessing**   \n",
        "\n",
        "ans.9 > multithreading: Runs multiple threads (smaller tasks) within the same process\n",
        "Threads share the same memory space.\n",
        "~~~\n",
        "port threading\n",
        "\n",
        "def task():\n",
        "    print(\"Run\")\n",
        "\n",
        "t = threading.Thread(target=task)\n",
        "t.start()\n",
        "~~~\n",
        "> multiprocessing: Runs multiple processes, each with its own memory\n",
        "Bypasses the GIL, so tasks run in parallel.\n",
        "~~~\n",
        "import multiprocessing\n",
        "\n",
        "def task():\n",
        "    print(\"Run\")\n",
        "\n",
        "p = multiprocessing.Process(target=task)\n",
        "p.start()\n",
        "~~~"
      ],
      "metadata": {
        "id": "sVwky12QfZ8P"
      }
    },
    {
      "cell_type": "markdown",
      "source": [
        "\n",
        "\n",
        "**Ques10. What are the advantages of using logging in a program?**     \n",
        "\n",
        "Ans10.\n",
        "1. Helps Debugging:\n",
        "Logging records detailed information about what the program is doing, making it easier to find and fix problems.\n",
        "\n",
        "2. Keeps a Permanent Record:\n",
        "Logs can be saved to files, so you can review program activity even after it has finished running.\n",
        "\n",
        "3. Provides Different Levels of Messages:\n",
        "You can categorize logs by importance (e.g., INFO, WARNING, ERROR), helping you focus on what matters most.\n",
        "\n",
        "4. Better than Print Statements:\n",
        "Unlike print, logging can be turned on or off and can be configured to output to different places (files, consoles, etc.)."
      ],
      "metadata": {
        "id": "P_SZj5jOhFLd"
      }
    },
    {
      "cell_type": "markdown",
      "source": [
        "**Ques11. What is memory management in Python?**\n",
        "\n",
        "Ans11. Memory management in Python refers to how the language allocates, uses, and frees up memory while your program runs.\n"
      ],
      "metadata": {
        "id": "UWCbGbJyhiS3"
      }
    },
    {
      "cell_type": "markdown",
      "source": [
        "\n",
        "**Ques12. What are the basic steps involved in exception handling in Python?**      \n",
        "\n",
        "Ans12.Exception handling in Python is about managing errors so your program doesn’t crash unexpectedly:\n",
        "\n",
        ">try: Put the code that might cause an error inside a try block.\n",
        "~~~\n",
        "try:\n",
        "  print(10/0)\n",
        "~~~\n",
        ">Catch Exceptions with except: Each except handles a specific type of error\n",
        "~~~\n",
        "except Exception as e:\n",
        "      print(\"error is\",e)\n",
        "~~~\n",
        "> finally: Use finally Block\n",
        "~~~\n",
        "finally:\n",
        "  print(\"this will run the code\")\n",
        "~~~\n",
        "all together:\n",
        "~~~\n",
        "try:\n",
        "  print(10/0)\n",
        "except ZeroDivisionError as e:\n",
        "  print(\"error is:\",e)\n",
        "finally:\n",
        "  print(\"this will run the code\")\n",
        "~~~"
      ],
      "metadata": {
        "id": "JYI5OKsyhrpB"
      }
    },
    {
      "cell_type": "markdown",
      "source": [
        "\n",
        "**Ques13. Why is memory management important in Python?**\n",
        "\n",
        "Ans13. Memory management is important in Python because it helps ensure that your programs run efficiently and reliably.Memory management in Python is crucial because it keeps your program fast, stable, and resource-friendly by automatically managing how memory is used and freed."
      ],
      "metadata": {
        "id": "iLswIt0liH7r"
      }
    },
    {
      "cell_type": "markdown",
      "source": [
        "\n",
        "**Ques14. What is the role of try and except in exception handling?**\n",
        "\n",
        "Ans14.\n",
        ">try: Put the code that might cause an error inside a try block.\n",
        ">Catch Exceptions with except: Each except handles a specific type of error\n",
        "~~~\n",
        "try:\n",
        "  print(10/0)\n",
        "except ZeroDivisionError as e:\n",
        "  print(\"error is:\",e)\n",
        "finally:\n",
        "  print(\"this will run the code\")\n",
        "~~~"
      ],
      "metadata": {
        "id": "ZKpqKj7miQuw"
      }
    },
    {
      "cell_type": "markdown",
      "source": [
        "**Ques15. How does Python's garbage collection system work?**\n",
        "\n",
        "Ans15. Python’s garbage collection (GC) system automatically manages memory by removing objects that are no longer needed so that memory can be reused."
      ],
      "metadata": {
        "id": "WnCl0c8TiaRC"
      }
    },
    {
      "cell_type": "markdown",
      "source": [
        "\n",
        "**Ques16. What is the purpose of the else block in exception handling?**\n",
        "\n",
        "Ans16. The else block in Python exception handling is used to run code only if no exceptions were raised in the try block.\n",
        "~~~\n",
        "try:\n",
        "    result = 10 / 2\n",
        "except ZeroDivisionError:\n",
        "    print(\"Cannot divide by zero.\")\n",
        "else:\n",
        "    print(\"Division successful! Result is\", result)\n",
        "~~~"
      ],
      "metadata": {
        "id": "ujRbpsn0ikhF"
      }
    },
    {
      "cell_type": "markdown",
      "source": [
        "\n",
        "**Ques17. What are the common logging levels in Python?**\n",
        "\n",
        "Ans17.  \n",
        "Python’s logging module provides different logging levels to indicate the\n",
        "mportance of messages.\n",
        "\n",
        "> DEBUG: For detailed troubleshooting info\n",
        "\n",
        ">INFO: General operational messages\n",
        "\n",
        ">WARNING: Alerts about potential issues\n",
        "\n",
        ">ERROR: Serious problems that affect functionality\n",
        "\n",
        ">CRITICAL: Very severe errors causing program failure"
      ],
      "metadata": {
        "id": "u7yQI6NdiuXD"
      }
    },
    {
      "cell_type": "markdown",
      "source": [
        "\n",
        "**Que18. What is the difference between os.fork() and multiprocessing in Python**\n",
        "\n",
        "Ans18.\n",
        "> os.fork():A low-level function available on Unix/Linux systems only.\n",
        "It creates a child process by duplicating the current process.\n",
        "Both parent and child processes continue running from the same point in the code.\n",
        "> multiprocessing Module:A high-level Python module for creating and managing separate processes.Works on all platforms (Windows, macOS, Linux).\n",
        "Provides easy-to-use classes like Process, Queue, Pool, etc."
      ],
      "metadata": {
        "id": "cb4-VrZNi22R"
      }
    },
    {
      "cell_type": "markdown",
      "source": [
        "**Ques19. What is the importance of closing a file in Python?**\n",
        "\n",
        "Ans19. Closing a file in Python is important to ensure that your program uses system resources properly and does not lose data."
      ],
      "metadata": {
        "id": "8tqoJn5ei_Dd"
      }
    },
    {
      "cell_type": "markdown",
      "source": [
        "\n",
        "**Ques20. What is the difference between file.read() and file.readline() in Python0**\n",
        "\n",
        "Ans20. file.read():in this we can read the whole file in one go.\n",
        "~~~\n",
        "with open(\"file.txt\",\"r\")as f:\n",
        "   r=f.read()\n",
        "   print(r)\n",
        "~~~\n",
        "\n",
        "file.readline: in this we can read first line of our file.\n",
        "~~~\n",
        "with open(\"file.txt\",\"r\")as f:\n",
        "   r=f.readline()\n",
        "   print(r)\n",
        "~~~"
      ],
      "metadata": {
        "id": "TVvdie7ujRXc"
      }
    },
    {
      "cell_type": "markdown",
      "source": [
        "\n",
        "**Ques21. What is the logging module in Python used for**\n",
        "\n",
        "Ans21.The logging module in Python is used to record messages that describe events happening in your program. It helps you track errors, monitor performance, and understand how your code is running — without using print() statements"
      ],
      "metadata": {
        "id": "a5Zp2DqJj2l3"
      }
    },
    {
      "cell_type": "markdown",
      "source": [
        "\n",
        "**Ques22. What is the os module in Python used for in file handling?**\n",
        "\n",
        "Ans22. The os module is used to interact with the operating system. In file handling, it helps with:\n",
        "\n",
        ">Checking if files or directories exist: os.path.exists()\n",
        "\n",
        ">Creating directories: os.mkdir(), os.makedirs()\n",
        "\n",
        ">Listing contents of directories: os.listdir()\n",
        "\n",
        ">Deleting files or directories: os.remove(), os.rmdir()\n",
        "\n",
        ">Renaming or moving files: os.rename()\n",
        "\n",
        ">setting the current working directory: os.getcwd(), os.chdir()\n",
        "\n",
        ">Building platform-independent file paths: os.path.join()"
      ],
      "metadata": {
        "id": "byIadmLukAaE"
      }
    },
    {
      "cell_type": "markdown",
      "source": [
        "\n",
        "**Ques23. What are the challenges associated with memory management in Python?**\n",
        "\n",
        "Ans23. Poor memory management can lead to various issues such as memory leaks, fragmentation, excessive paging, and crashes, which indirectly degrade system performance and stability."
      ],
      "metadata": {
        "id": "GIKJ1aG_kXDS"
      }
    },
    {
      "cell_type": "markdown",
      "source": [
        "\n",
        "**Ques24.  How do you raise an exception manually in Python?**\n",
        "\n",
        "Ans24. In Python, we can raise an exception manually using the raise keyword.\n",
        "~~~\n",
        "class MyCustomError(Exception):\n",
        "    pass\n",
        "\n",
        "raise MyCustomError(\"Something custom went wrong\")\n",
        "~~~"
      ],
      "metadata": {
        "id": "PTQl7yd3kdqP"
      }
    },
    {
      "cell_type": "markdown",
      "source": [
        "\n",
        "**Ques25. Why is it important to use multithreading in certain applications**\n",
        "\n",
        "Ans25. Multithreading is important in certain applications for several reasons:\n",
        "\n",
        "1. **Improved Responsiveness:** In applications with user interfaces or network operations, multithreading can prevent the application from freezing while waiting for a task to complete. One thread can handle the long-running task while another thread keeps the UI responsive.\n",
        "\n",
        "2. **Better Resource Utilization:** For I/O-bound tasks (tasks that spend a lot of time waiting for input/output operations, like reading from a file or network), multithreading allows the CPU to switch to another thread while one thread is waiting. This makes better use of available resources.\n",
        "\n",
        "3. **Simplified Design for Concurrent Tasks:** When an application needs to perform multiple tasks concurrently (like handling multiple client connections in a server), using separate threads for each task can simplify the program's structure and make it easier to manage.\n",
        "\n",
        "4. **Parallelism (in some cases):** Although Python's Global Interpreter Lock (GIL) limits true parallel execution of CPU-bound tasks in multiple threads on multi-core processors, multithreading can still provide a form of concurrency that is beneficial for I/O-bound operations. In other languages without a GIL, multithreading can achieve true parallelism for CPU-bound tasks"
      ],
      "metadata": {
        "id": "ypkvqtdIkjhu"
      }
    },
    {
      "cell_type": "markdown",
      "source": [
        "# PRACTICAL QUESTION"
      ],
      "metadata": {
        "id": "PJPPvKDLks67"
      }
    },
    {
      "cell_type": "code",
      "source": [
        "# Ques1. How can you open a file for writing in Python and write a string to it?\n",
        "with open(\"file.txt\",\"w\") as f:\n",
        "  f.write(\"Hey, my name is divya\")\n",
        "  f.write(\"\\nI am in DA course\")"
      ],
      "metadata": {
        "id": "02I1pwLolNOd"
      },
      "execution_count": null,
      "outputs": []
    },
    {
      "cell_type": "code",
      "source": [
        "# Ques2. Write a Python program to read the contents of a file and print each line?\n",
        "with open(\"file.txt\",\"r\") as f:\n",
        "  print(f.read())"
      ],
      "metadata": {
        "colab": {
          "base_uri": "https://localhost:8080/"
        },
        "id": "yYBwL1QelSsq",
        "outputId": "099f8bde-ea1f-4eb4-942d-233a32c12dc8"
      },
      "execution_count": null,
      "outputs": [
        {
          "output_type": "stream",
          "name": "stdout",
          "text": [
            "Hey, my name is divya\n",
            "I am in DA course\n"
          ]
        }
      ]
    },
    {
      "cell_type": "code",
      "source": [
        "#Ques3. How would you handle a case where the file doesn't exist while trying to open it for reading?\n",
        "try:\n",
        "  with open(\"file_test.txt\",\"r\") as f:\n",
        "    r = f.read()\n",
        "    print(r)\n",
        "except FileNotFoundError as e:\n",
        "  print(\"error is:\",e)"
      ],
      "metadata": {
        "colab": {
          "base_uri": "https://localhost:8080/"
        },
        "id": "r6OcO5OhlZuK",
        "outputId": "29ce8fbc-3057-4d65-e12d-024ddf670864"
      },
      "execution_count": null,
      "outputs": [
        {
          "output_type": "stream",
          "name": "stdout",
          "text": [
            "error is: [Errno 2] No such file or directory: 'file_test.txt'\n"
          ]
        }
      ]
    },
    {
      "cell_type": "code",
      "source": [
        "#Ques4. Write a Python script that reads from one file and writes its content to another file?\n",
        "with open(\"file.txt\",\"r\")as f:\n",
        "  print(f.read())\n",
        "\n",
        "with open(\"file.txt\",\"r\") as firstfile:\n",
        "  with open(\"second_file.txt\",\"a\") as secondfile:\n",
        "    for line in firstfile:\n",
        "      secondfile.write(line)\n",
        "\n",
        "with open(\"second_file.txt\",\"r\")as f:\n",
        "  print(f.read())"
      ],
      "metadata": {
        "colab": {
          "base_uri": "https://localhost:8080/"
        },
        "id": "cMJV4FzPlgzc",
        "outputId": "2b0b1e70-feb0-4644-f39f-f4f16166a109"
      },
      "execution_count": null,
      "outputs": [
        {
          "output_type": "stream",
          "name": "stdout",
          "text": [
            "Hey, my name is divya\n",
            "I am in DA course\n",
            "Hey, my name is divya\n",
            "I am in DA course\n"
          ]
        }
      ]
    },
    {
      "cell_type": "code",
      "source": [
        "#Ques5. How would you catch and handle division by zero error in Python?\n",
        "try:\n",
        "  print(10/0)\n",
        "except ZeroDivisionError as e:\n",
        "  print(\"error is:\",e)"
      ],
      "metadata": {
        "colab": {
          "base_uri": "https://localhost:8080/"
        },
        "id": "8-p_Rn25lnrr",
        "outputId": "ad592c77-a900-46db-8822-480fa46d6804"
      },
      "execution_count": null,
      "outputs": [
        {
          "output_type": "stream",
          "name": "stdout",
          "text": [
            "error is: division by zero\n"
          ]
        }
      ]
    },
    {
      "cell_type": "code",
      "source": [
        "#Ques6. Write a Python program that logs an error message to a log file when a division by zero exception occurs?\n",
        "\n",
        "import logging\n",
        "logging.basicConfig(filename='error.log', level=logging.ERROR)\n",
        "\n",
        "try:\n",
        "  result = 10 / 0\n",
        "except ZeroDivisionError as e:\n",
        "  logging.error(\"Division by zero error occurred: %s\", e)\n",
        "  print(\"An error occurred and has been logged.\")"
      ],
      "metadata": {
        "colab": {
          "base_uri": "https://localhost:8080/"
        },
        "id": "GEUDnNZ1l9h-",
        "outputId": "225114a8-cb41-4b9a-884c-bfa1a5b67780"
      },
      "execution_count": null,
      "outputs": [
        {
          "output_type": "stream",
          "name": "stderr",
          "text": [
            "ERROR:root:Division by zero error occurred: division by zero\n"
          ]
        },
        {
          "output_type": "stream",
          "name": "stdout",
          "text": [
            "An error occurred and has been logged.\n"
          ]
        }
      ]
    },
    {
      "cell_type": "code",
      "source": [
        "#Ques7. How do you log information at different levels (INFO, ERROR, WARNING) in Python using the logging module?\n",
        "import logging\n",
        "logging.basicConfig(filename=\"test_log.txt\",level=logging.INFO)\n",
        "\n",
        "logging.info(\"this is info message\")\n",
        "logging.error(\"this is error message\")\n",
        "logging.warning(\"this is last warning\")\n",
        "\n",
        "logging.shutdown()"
      ],
      "metadata": {
        "colab": {
          "base_uri": "https://localhost:8080/"
        },
        "id": "UDoayzVfmEcR",
        "outputId": "0a66bf8f-e15a-4997-f26f-01c50bdbf27f"
      },
      "execution_count": null,
      "outputs": [
        {
          "output_type": "stream",
          "name": "stderr",
          "text": [
            "ERROR:root:this is error message\n",
            "WARNING:root:this is last warning\n"
          ]
        }
      ]
    },
    {
      "cell_type": "code",
      "source": [
        "#Ques8.  Write a program to handle a file opening error using exception handling?\n",
        "try:\n",
        "  with open(\"test.txt\",\"r\") as f:\n",
        "    r = f.read()\n",
        "    print(r)\n",
        "except FileNotFoundError as e:\n",
        "  print(\"error is:\",e)"
      ],
      "metadata": {
        "colab": {
          "base_uri": "https://localhost:8080/"
        },
        "id": "URVJXeGMmLHv",
        "outputId": "97dd6568-43da-460a-e404-7d29f4ef0c61"
      },
      "execution_count": null,
      "outputs": [
        {
          "output_type": "stream",
          "name": "stdout",
          "text": [
            "error is: [Errno 2] No such file or directory: 'test.txt'\n"
          ]
        }
      ]
    },
    {
      "cell_type": "code",
      "source": [
        "#Ques9. How can you read a file line by line and store its content in a list in Python?\n",
        "with open(\"file.txt\",\"r\")as f:\n",
        "  r=f.readlines()\n",
        "  print(r)"
      ],
      "metadata": {
        "colab": {
          "base_uri": "https://localhost:8080/"
        },
        "id": "QvwDwCKnmQoY",
        "outputId": "ae9b1023-2311-40e2-a1bd-3f2e7a6c9c7f"
      },
      "execution_count": null,
      "outputs": [
        {
          "output_type": "stream",
          "name": "stdout",
          "text": [
            "['Hey, my name is divya\\n', 'I am in DA course']\n"
          ]
        }
      ]
    },
    {
      "cell_type": "code",
      "source": [
        "#Ques10.  How can you append data to an existing file in Python?\n",
        "with open(\"file.txt\",\"a\")as f:\n",
        "  f.write(\"\\nmy fees is 20000\")"
      ],
      "metadata": {
        "id": "YRdW0cOcmWfJ"
      },
      "execution_count": null,
      "outputs": []
    },
    {
      "cell_type": "code",
      "source": [
        "#Ques11. Write a Python program that uses a try-except block to handle an error when attempting to access a dictionary key that doesn't exist?\n",
        "try:\n",
        " data={\"name\":\"divya\",\"course\":\"DA\"}\n",
        " print(data[\"age\"])\n",
        "except KeyError as e:\n",
        "  print(\"here there is no key:\",e)"
      ],
      "metadata": {
        "colab": {
          "base_uri": "https://localhost:8080/"
        },
        "id": "oV4u-O5KmgSt",
        "outputId": "809ac732-5f08-46b7-fd40-7a203a3e3d34"
      },
      "execution_count": null,
      "outputs": [
        {
          "output_type": "stream",
          "name": "stdout",
          "text": [
            "here there is no key: 'age'\n"
          ]
        }
      ]
    },
    {
      "cell_type": "code",
      "source": [
        "#Ques12. Write a program that demonstrates using multiple except blocks to handle different types of exceptions?\n",
        "try:\n",
        "  x=int(input(\"enter a number:\"))\n",
        "  print(10/x)\n",
        "\n",
        "except ZeroDivisionError as e:\n",
        "  print(\"error is:\",e)\n",
        "except ValueError as e:\n",
        "  print(\"error is:\",e)"
      ],
      "metadata": {
        "colab": {
          "base_uri": "https://localhost:8080/"
        },
        "id": "da16mNz6mh0q",
        "outputId": "b9531c2e-6fbe-41a3-b326-d73ea1288145"
      },
      "execution_count": null,
      "outputs": [
        {
          "output_type": "stream",
          "name": "stdout",
          "text": [
            "enter a number: Harry\n",
            "error is: invalid literal for int() with base 10: ' Harry'\n"
          ]
        }
      ]
    },
    {
      "cell_type": "code",
      "source": [
        "#Ques13.  How would you check if a file exists before attempting to read it in Python?\n",
        "import os\n",
        "if os.path.exists(\"file.txt\"):\n",
        "  print(\"file exixts:\")\n",
        "  with open(\"file.txt\",\"r\")as f:\n",
        "    r=f.read()\n",
        "    print(r)\n",
        "else:\n",
        "  print(\"file not found\")"
      ],
      "metadata": {
        "colab": {
          "base_uri": "https://localhost:8080/"
        },
        "id": "rR90ztxPms_r",
        "outputId": "c2639563-76ea-4a23-e9e8-6de3d0cd9410"
      },
      "execution_count": null,
      "outputs": [
        {
          "output_type": "stream",
          "name": "stdout",
          "text": [
            "file exixts:\n",
            "Hey, my name is divya\n",
            "I am in DA course\n",
            "my fees is 20000\n"
          ]
        }
      ]
    },
    {
      "cell_type": "code",
      "source": [
        "#Ques14.  Write a program that uses the logging module to log both informational and error messages?\n",
        "import logging\n",
        "logging.basicConfig(filename=\"error.log\",level=logging.INFO)\n",
        "\n",
        "logging.info(\"this is informational message\")\n",
        "logging.error(\"this is error message\")\n",
        "\n",
        "logging.shutdown()"
      ],
      "metadata": {
        "colab": {
          "base_uri": "https://localhost:8080/"
        },
        "id": "wTXO4TxKm2Rg",
        "outputId": "0e730098-1e91-4843-cffc-24e4f1e11c96"
      },
      "execution_count": null,
      "outputs": [
        {
          "output_type": "stream",
          "name": "stderr",
          "text": [
            "ERROR:root:this is error message\n"
          ]
        }
      ]
    },
    {
      "cell_type": "code",
      "source": [
        "#Ques15. Write a Python program that prints the content of a file and handles the case when the file is empty?\n",
        "with open(\"empty.txt\",\"w\")as f:\n",
        " f.write(\"\")\n",
        "\n",
        "size = os.path.getsize(\"empty.txt\")\n",
        "\n",
        "if size==0:\n",
        "  print(\"file is empty\")\n",
        "else:\n",
        "  with open(\"empty.txt\",\"r\")as f:\n",
        "    r=f.read()\n",
        "    print(r)"
      ],
      "metadata": {
        "colab": {
          "base_uri": "https://localhost:8080/"
        },
        "id": "5UKG37swm9s-",
        "outputId": "7c0807b5-12cd-4c6f-8e37-43472a887407"
      },
      "execution_count": null,
      "outputs": [
        {
          "output_type": "stream",
          "name": "stdout",
          "text": [
            "file is empty\n"
          ]
        }
      ]
    },
    {
      "cell_type": "code",
      "metadata": {
        "colab": {
          "base_uri": "https://localhost:8080/"
        },
        "id": "f65c987d",
        "outputId": "c4691434-a308-4e56-9293-d080e5dcbc85"
      },
      "source": [
        "#Ques16. Demonstrate how to use memory profiling to check the memory usage of a small program?\n",
        "from memory_profiler import profile\n",
        "\n",
        "@profile\n",
        "def my_function():\n",
        "    a = [1] * 10\n",
        "    b = [2] * 20\n",
        "    return a, b\n",
        "\n",
        "my_function()"
      ],
      "execution_count": null,
      "outputs": [
        {
          "output_type": "stream",
          "name": "stdout",
          "text": [
            "ERROR: Could not find file /tmp/ipython-input-3943683757.py\n"
          ]
        },
        {
          "output_type": "execute_result",
          "data": {
            "text/plain": [
              "([1, 1, 1, 1, 1, 1, 1, 1, 1, 1],\n",
              " [2, 2, 2, 2, 2, 2, 2, 2, 2, 2, 2, 2, 2, 2, 2, 2, 2, 2, 2, 2])"
            ]
          },
          "metadata": {},
          "execution_count": 21
        }
      ]
    },
    {
      "cell_type": "code",
      "source": [
        "#Ques17.  Write a Python program to create and write a list of numbers to a file, one number per line\n",
        "data=[1,2,3,4,5,6]\n",
        "import csv\n",
        "\n",
        "with open(\"file_csv.csv\",\"w\")as f:\n",
        "  writer=csv.writer(f)\n",
        "  for num in data:\n",
        "   writer.writerow([num])\n",
        "\n",
        "with open(\"file_csv.csv\",\"r\")as f:\n",
        "  reader=csv.reader(f)\n",
        "  for row in reader:\n",
        "    print(row)"
      ],
      "metadata": {
        "colab": {
          "base_uri": "https://localhost:8080/"
        },
        "id": "6rq2NXOVn4v5",
        "outputId": "8dbb2582-c706-491c-8610-e9fb55f28113"
      },
      "execution_count": null,
      "outputs": [
        {
          "output_type": "stream",
          "name": "stdout",
          "text": [
            "['1']\n",
            "['2']\n",
            "['3']\n",
            "['4']\n",
            "['5']\n",
            "['6']\n"
          ]
        }
      ]
    },
    {
      "cell_type": "code",
      "source": [
        "#Ques18. How would you implement a basic logging setup that logs to a file with rotation after 1MB?\n",
        "import logging\n",
        "from logging.handlers import RotatingFileHandler\n",
        "\n",
        "logging.basicConfig(filename=\"test_log.txt\",level=logging.INFO)\n",
        "\n",
        "logging.info(\"this is info message\")\n",
        "logging.error(\"this is error message\")\n",
        "logging.warning(\"this is last warning\")\n",
        "\n",
        "logging.shutdown()"
      ],
      "metadata": {
        "colab": {
          "base_uri": "https://localhost:8080/"
        },
        "id": "6E9KPEaEn_NW",
        "outputId": "b09e7c03-f5b0-4958-f887-35d7e2070040"
      },
      "execution_count": null,
      "outputs": [
        {
          "output_type": "stream",
          "name": "stderr",
          "text": [
            "ERROR:root:this is error message\n",
            "WARNING:root:this is last warning\n"
          ]
        }
      ]
    },
    {
      "cell_type": "code",
      "source": [
        "#Ques19. Write a program that handles both IndexError and KeyError using a try-except block?\n",
        "try:\n",
        "  dic={\"name\":\"divya\",\"age\":20}\n",
        "  dic[\"course\"]\n",
        "  l1=[1,2,3,4]\n",
        "  l1[5]\n",
        "except (KeyError,IndexError) as e:\n",
        "  print(\"error is:\",e)"
      ],
      "metadata": {
        "colab": {
          "base_uri": "https://localhost:8080/"
        },
        "id": "QxTPVUbgoMgJ",
        "outputId": "eaef49a7-c419-4573-c036-30036c3627c6"
      },
      "execution_count": null,
      "outputs": [
        {
          "output_type": "stream",
          "name": "stdout",
          "text": [
            "error is: 'course'\n"
          ]
        }
      ]
    },
    {
      "cell_type": "code",
      "source": [
        "#Ques20. How would you open a file and read its contents using a context manager in Python?\n",
        "with open(\"file.txt\",\"r\")as f:\n",
        "  r=f.read()\n",
        "  print(r)"
      ],
      "metadata": {
        "colab": {
          "base_uri": "https://localhost:8080/"
        },
        "id": "POmcSdIRoOJ8",
        "outputId": "ecbce2d5-9bda-4a29-c505-691911d8645e"
      },
      "execution_count": null,
      "outputs": [
        {
          "output_type": "stream",
          "name": "stdout",
          "text": [
            "Hey, my name is divya\n",
            "I am in DA course\n",
            "my fees is 20000\n"
          ]
        }
      ]
    },
    {
      "cell_type": "code",
      "source": [
        "#Ques21. Write a Python program that reads a file and prints the number of occurrences of a specific word?\n",
        "\n",
        "with open(\"file.txt\",\"r\")as f:\n",
        "  r=f.read()\n",
        "  print(r.count(\"divya\"))"
      ],
      "metadata": {
        "colab": {
          "base_uri": "https://localhost:8080/"
        },
        "id": "4nZphglDoWR3",
        "outputId": "fac57ac8-8ab3-4cda-f6df-08ab88326cdb"
      },
      "execution_count": null,
      "outputs": [
        {
          "output_type": "stream",
          "name": "stdout",
          "text": [
            "1\n"
          ]
        }
      ]
    },
    {
      "cell_type": "code",
      "source": [
        "#Ques22. How can you check if a file is empty before attempting to read its contents?\n",
        "import os\n",
        "size = os.path.getsize(\"file.txt\")\n",
        "\n",
        "if size==0:\n",
        "  print(\"file is empty\")\n",
        "else:\n",
        "  with open(\"file.txt\",\"r\")as f:\n",
        "    r=f.read()\n",
        "    print(\"this file is not empty:\\n\",r)"
      ],
      "metadata": {
        "colab": {
          "base_uri": "https://localhost:8080/"
        },
        "id": "ahVgRkYOocQf",
        "outputId": "b746598c-8602-41fe-f0bf-110e0c1905a2"
      },
      "execution_count": null,
      "outputs": [
        {
          "output_type": "stream",
          "name": "stdout",
          "text": [
            "this file is not empty:\n",
            " Hey, my name is divya\n",
            "I am in DA course\n",
            "my fees is 20000\n"
          ]
        }
      ]
    },
    {
      "cell_type": "code",
      "source": [
        "#Ques23. Write a Python program that writes to a log file when an error occurs during file handling.\n",
        "try:\n",
        "    with open(\"data.txt\", \"r\") as file:\n",
        "        c = file.read()\n",
        "        print(c)\n",
        "\n",
        "except Exception as e:\n",
        "    with open(\"error_log.txt\", \"a\") as log_file:\n",
        "        log_file.write(f\"Error: {str(e)}\\n\")\n",
        "\n",
        "# output:\n",
        "# Error: [Errno 2] No such file or directory: 'data.txt'"
      ],
      "metadata": {
        "id": "83kybPM5oikq"
      },
      "execution_count": null,
      "outputs": []
    }
  ]
}